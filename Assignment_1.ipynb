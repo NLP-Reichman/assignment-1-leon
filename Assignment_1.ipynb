{
  "cells": [
    {
      "cell_type": "markdown",
      "metadata": {
        "id": "FECp14-d_F2e"
      },
      "source": [
        "# Set up"
      ]
    },
    {
      "cell_type": "code",
      "execution_count": null,
      "metadata": {
        "colab": {
          "base_uri": "https://localhost:8080/"
        },
        "id": "za-DgcYB_IQx",
        "outputId": "575160cb-cf01-4cff-8d37-8a8908a70c86"
      },
      "outputs": [
        {
          "name": "stdout",
          "output_type": "stream",
          "text": [
            "Cloning into '2025_assignment_1'...\n",
            "remote: Enumerating objects: 62, done.\u001b[K\n",
            "remote: Counting objects: 100% (62/62), done.\u001b[K\n",
            "remote: Compressing objects: 100% (45/45), done.\u001b[K\n",
            "remote: Total 62 (delta 18), reused 44 (delta 9), pack-reused 0 (from 0)\u001b[K\n",
            "Receiving objects: 100% (62/62), 7.05 MiB | 5.67 MiB/s, done.\n",
            "Resolving deltas: 100% (18/18), done.\n"
          ]
        }
      ],
      "source": [
        "!git clone https://github.com/NLP-Reichman/2025_assignment_1.git\n",
        "!mv 2025_assignment_1/data data\n",
        "!rm 2025_assignment_1/ -r"
      ]
    },
    {
      "cell_type": "markdown",
      "metadata": {},
      "source": [
        "### Additional functions (move to separate location?)"
      ]
    },
    {
      "cell_type": "code",
      "execution_count": 12,
      "metadata": {},
      "outputs": [],
      "source": [
        "import os\n",
        "import json\n",
        "from typing import Dict, List, Tuple\n",
        "import copy\n",
        "def load_data_files() -> Dict[str, str]:\n",
        "    files = {}\n",
        "    for file in os.listdir('data'):\n",
        "        if '.json' not in file:\n",
        "            continue\n",
        "        texts = json.load(open(f'data/{file}', encoding='utf-8'))['tweet_text']\n",
        "        files[file.replace('.json', '')] = [val for _, val in texts.items()]\n",
        "    return files\n",
        "\n",
        "def probs_for_counts(c_vect : Dict, full_copy = True, add_unknown = False) -> Dict[List, Dict[str, float]]:\n",
        "    if full_copy:\n",
        "        prob_vect = copy.deepcopy(c_vect)\n",
        "    else:\n",
        "        prob_vect = c_vect # modifying a dict in place is not a good idea\n",
        "    for vocab_key, vocab_val in c_vect.items():\n",
        "        s = sum(vocab_val.values())\n",
        "        if add_unknown:\n",
        "            un_s = s/(len(vocab_val)-1)\n",
        "            prob_vect[vocab_key][\"<unk>\"] = un_s\n",
        "            s += un_s\n",
        "        for k, v in vocab_val.items():\n",
        "            prob_vect[vocab_key][k] = v/s\n",
        "    return prob_vect\n",
        "\n",
        "def get_base_model_table(texts, vocab_size) -> Tuple[Dict[List, Dict[str, int]], Dict[List, Dict[str, float]]]:\n",
        "    internal_vect = {}\n",
        "    starting_message = (vocab_size-1)*[\"<start>\"]\n",
        "    for text in texts:\n",
        "        current_message = starting_message\n",
        "        full_text = list(text) + [\"<end>\"]\n",
        "        for token in full_text:\n",
        "            conv = tuple(current_message)\n",
        "            internal_vect.setdefault(conv, {})\n",
        "            internal_vect[conv].setdefault(token, 0)\n",
        "            internal_vect[conv][token] += 1\n",
        "            if vocab_size > 1:\n",
        "                current_message = current_message[1:] + [token]\n",
        "    prob_vect = probs_for_counts(internal_vect)\n",
        "    return internal_vect, prob_vect"
      ]
    },
    {
      "cell_type": "markdown",
      "metadata": {
        "id": "0i2bOXTB8Dvc"
      },
      "source": [
        "# Introduction\n",
        "In this assignment you will be creating tools for learning and testing language models. The corpora that you will be working with are lists of tweets in 8 different languages that use the Latin script. The data is provided either formatted as CSV or as JSON, for your convenience. The end goal is to write a set of tools that can detect the language of a given tweet.\n",
        "The relevant files are under the data folder:\n",
        "\n",
        "- en.csv (or the equivalent JSON file)\n",
        "- es.csv (or the equivalent JSON file)\n",
        "- fr.csv (or the equivalent JSON file)\n",
        "- in.csv (or the equivalent JSON file)\n",
        "- it.csv (or the equivalent JSON file)\n",
        "- nl.csv (or the equivalent JSON file)\n",
        "- pt.csv (or the equivalent JSON file)\n",
        "- tl.csv (or the equivalent JSON file)"
      ]
    },
    {
      "cell_type": "code",
      "execution_count": 13,
      "metadata": {
        "id": "1u1qR7iaq_GU"
      },
      "outputs": [],
      "source": [
        "import os\n",
        "import json\n",
        "import pandas as pd\n",
        "import numpy as np\n",
        "from itertools import product\n",
        "import math"
      ]
    },
    {
      "cell_type": "markdown",
      "metadata": {
        "id": "IHN0tWTurwkN"
      },
      "source": [
        "# Implementation"
      ]
    },
    {
      "cell_type": "markdown",
      "metadata": {
        "id": "i56aKA0K8adr"
      },
      "source": [
        "## Part 1\n",
        "Implement the function *preprocess* that iterates over all the data files and creates a single vocabulary, containing all the tokens in the data. Our token definition is a single UTF-8 encoded character. So, the vocabulary list is a simple Python list of all the characters that you see at least once in the data. The vocabulary should include the `<start>` and  `<end>` tokens.\n",
        "\n",
        "Note - do NOT lowecase the sentences."
      ]
    },
    {
      "cell_type": "code",
      "execution_count": 14,
      "metadata": {
        "id": "ws_5u7vRrg0o"
      },
      "outputs": [],
      "source": [
        "def preprocess() -> list[str]:\n",
        "  '''\n",
        "  Return a list of characters, representing the shared vocabulary of all languages\n",
        "  '''\n",
        "  vocab = []\n",
        "  lang_files = load_data_files()\n",
        "  for _, lang_data in lang_files.items():\n",
        "    for message in lang_data:\n",
        "      for c in message:\n",
        "        vocab.append(c)\n",
        "  vocab = list(set(vocab))\n",
        "  vocab.append(\"<start>\")\n",
        "  vocab.append(\"<end>\")\n",
        "  return vocab"
      ]
    },
    {
      "cell_type": "code",
      "execution_count": 15,
      "metadata": {
        "colab": {
          "base_uri": "https://localhost:8080/"
        },
        "id": "-1jcvg0jtMjF",
        "outputId": "b05d8228-f84f-40fc-be2f-9be57ff3ead9"
      },
      "outputs": [
        {
          "name": "stdout",
          "output_type": "stream",
          "text": [
            "vocab length: 1804\n",
            "Some characters in the vocab: ['📆', '엣', 'が', '主', '🦁', '文', '🤗', 'б', '💔', 'บ']\n"
          ]
        }
      ],
      "source": [
        "vocab = preprocess()\n",
        "print(f\"vocab length: {len(vocab)}\")\n",
        "print(f\"Some characters in the vocab: {vocab[:10]}\")"
      ]
    },
    {
      "cell_type": "markdown",
      "metadata": {
        "id": "tpjtwHW08jyH"
      },
      "source": [
        "## Part 2\n",
        "Implement the function *build_lm* that generates a language model from a textual corpus. The function should return a dictionary (representing a model) where the keys are all the relevant *n*-1 sequences, and the values are dictionaries with the *n*_th tokens and their corresponding probabilities to occur. To ensure consistent probabilities calculation, please add n-1 `<start>` tokens to the beginning of a tweet and one `<end>` token at the end. For example, for a trigram model (tokens are characters), it should look something like:\n",
        "\n",
        "{ \"ab\":{\"c\":0.5, \"b\":0.25, \"d\":0.25}, \"ca\":{\"a\":0.2, \"b\":0.7, \"d\":0.1} }\n",
        "\n",
        "which means for example that after the sequence \"ab\", there is a 0.5 chance that \"c\" will appear, 0.25 for \"b\" to appear and 0.25 for \"d\" to appear.\n",
        "\n",
        "Note - You should think how to add the add-one smoothing information to the dictionary and implement it.\n",
        "\n",
        "Please add the `<unk>` token with $p(<unk>)=1/|V|$ to the LM if buiulding a smoothed LM."
      ]
    },
    {
      "cell_type": "code",
      "execution_count": 16,
      "metadata": {
        "id": "uySEXdEUrkq_"
      },
      "outputs": [],
      "source": [
        "import copy\n",
        "import tqdm\n",
        "def build_lm(lang: str, n: int, smoothed: bool = False) -> dict[str, dict[str, float]]:\n",
        "  '''\n",
        "  Return a language model for the given lang and n_gram (n)\n",
        "  :param lang: the language of the model\n",
        "  :param n: the n_gram value\n",
        "  :param smoothed: boolean indicating whether to apply smoothing\n",
        "  :return: a dictionary where the keys are n_grams and the values are dictionaries\n",
        "  '''\n",
        "  LM = {}\n",
        "  language = load_data_files()[lang]\n",
        "  c_vect, prob_vect = get_base_model_table(language, n)\n",
        "  vocab = preprocess() + [\"<unk>\"]\n",
        "  if not smoothed:\n",
        "    LM = prob_vect\n",
        "  else:\n",
        "    smoothed_c_vect = copy.deepcopy(c_vect)\n",
        "    for vocab_key, vocab_val in tqdm.tqdm(c_vect.items()):\n",
        "        for w in vocab:\n",
        "           if w not in vocab_val:\n",
        "            smoothed_c_vect[vocab_key][w] = 1\n",
        "    LM = probs_for_counts(smoothed_c_vect, False, True)\n",
        "  LM[(\"<unk>\",)] = {k: 1/len(vocab) for k in vocab}\n",
        "  return LM"
      ]
    },
    {
      "cell_type": "code",
      "execution_count": 17,
      "metadata": {
        "colab": {
          "base_uri": "https://localhost:8080/"
        },
        "id": "d9mqbEhBttmm",
        "outputId": "df92d141-999d-42c9-8c12-e6d5e51f7d81"
      },
      "outputs": [
        {
          "name": "stdout",
          "output_type": "stream",
          "text": [
            "English Language Model with 3-gram is of length: 8239\n"
          ]
        }
      ],
      "source": [
        "LM = build_lm(\"en\", 3, False)\n",
        "print(f\"English Language Model with 3-gram is of length: {len(LM)}\")"
      ]
    },
    {
      "cell_type": "markdown",
      "metadata": {
        "id": "xwZnk7Ke8rW5"
      },
      "source": [
        "## Part 3\n",
        "Implement the function *eval* that returns the perplexity of a model (dictionary) running over the data file of the given target language.\n",
        "\n",
        "The `<unk>` should be used for unknown contexts when calculating the perplexities."
      ]
    },
    {
      "cell_type": "code",
      "execution_count": 18,
      "metadata": {
        "id": "y9w8u411uJeq"
      },
      "outputs": [],
      "source": [
        "def perplexity(model: dict, text: list, n) -> float:\n",
        "  '''\n",
        "  Calculates the perplexity of the given string using the given language model.\n",
        "  :param model: The language model\n",
        "  :param text: The tokenized text to calculate the perplexity for\n",
        "  :param n: The n-gram of the model\n",
        "  :return: The perplexity\n",
        "  '''\n",
        "  pp = 0\n",
        "  prepend = [\"<start>\"] * (n-1) + text + [\"<end>\"]\n",
        "  c_text = prepend[:n-1]\n",
        "  for c in prepend[n-1:]:\n",
        "    conv = tuple(c_text)\n",
        "    if conv not in model: # cant evaluate\n",
        "      conv = (\"<unk>\",)\n",
        "    c = c if c in model[conv] else \"<unk>\"\n",
        "    pp += math.log2(model[conv][c])\n",
        "    c_text = c_text[1:] + [c]\n",
        "  return pp*(-1/len(prepend[n-1:]))"
      ]
    },
    {
      "cell_type": "code",
      "execution_count": 19,
      "metadata": {
        "id": "ef-EglxXrmk2"
      },
      "outputs": [],
      "source": [
        "def eval(model: dict, target_lang: str, n: int) -> float:\n",
        "  '''\n",
        "  Return the perplexity value calculated over applying the model on the text file\n",
        "  of the target_lang language.\n",
        "  :param model: the language model\n",
        "  :param target_lang: the target language\n",
        "  :param n: The n-gram of the model\n",
        "  :return: the perplexity value\n",
        "  '''\n",
        "  pp = 0\n",
        "  lang = load_data_files()[target_lang]\n",
        "  total_tokens = 0\n",
        "  for text in lang:\n",
        "    total_tokens += len(text)+1\n",
        "    pp += perplexity(model, list(text), n) * (-len(text)-1)\n",
        "  return 2**(pp*(-1/total_tokens))\n"
      ]
    },
    {
      "cell_type": "code",
      "execution_count": 20,
      "metadata": {
        "id": "AIdDFvinBVhx"
      },
      "outputs": [
        {
          "name": "stderr",
          "output_type": "stream",
          "text": [
            "100%|██████████| 8238/8238 [00:00<00:00, 8855.37it/s]\n"
          ]
        }
      ],
      "source": [
        "LM = build_lm(\"en\", 3, True)"
      ]
    },
    {
      "cell_type": "code",
      "execution_count": 21,
      "metadata": {
        "colab": {
          "base_uri": "https://localhost:8080/"
        },
        "id": "1WUouhkBuWJu",
        "outputId": "75967c86-5b00-480a-8ffd-574122f7a452"
      },
      "outputs": [
        {
          "name": "stdout",
          "output_type": "stream",
          "text": [
            "Perplexity of the English 3-gram model on datasets:\n",
            "On English:  28.49\n",
            "On French:  61.18\n",
            "On Dutch:  65.31\n",
            "On Tagalog:  75.53\n"
          ]
        }
      ],
      "source": [
        "print(\"Perplexity of the English 3-gram model on datasets:\")\n",
        "print(f\"On English: {eval(LM, 'en', 3): .2f}\")\n",
        "print(f\"On French: {eval(LM, 'fr', 3): .2f}\")\n",
        "print(f\"On Dutch: {eval(LM, 'nl', 3): .2f}\")\n",
        "print(f\"On Tagalog: {eval(LM, 'tl', 3): .2f}\")"
      ]
    },
    {
      "cell_type": "code",
      "execution_count": 22,
      "metadata": {
        "colab": {
          "base_uri": "https://localhost:8080/"
        },
        "id": "5XP3ZIpLqB6r",
        "outputId": "3378ada3-42c1-42fb-88eb-8eeec458d0cd"
      },
      "outputs": [
        {
          "name": "stderr",
          "output_type": "stream",
          "text": [
            "100%|██████████| 1/1 [00:00<00:00, 1000.07it/s]\n",
            "100%|██████████| 747/747 [00:00<00:00, 9455.75it/s]\n",
            "100%|██████████| 8238/8238 [00:00<00:00, 8858.07it/s]\n",
            "100%|██████████| 78911/78911 [00:09<00:00, 8348.73it/s]\n"
          ]
        },
        {
          "name": "stdout",
          "output_type": "stream",
          "text": [
            "Perplexity on differnet n-gram models on English\n",
            "On 1-gram:  1755.02\n",
            "On 2-gram:  21.38\n",
            "On 3-gram:  28.49\n",
            "On 4-gram:  69.51\n"
          ]
        }
      ],
      "source": [
        "lm1 = build_lm(\"en\", 1, True)\n",
        "lm2 = build_lm(\"en\", 2, True)\n",
        "lm3 = build_lm(\"en\", 3, True)\n",
        "lm4 = build_lm(\"en\", 4, True)\n",
        "\n",
        "print(\"Perplexity on differnet n-gram models on English\")\n",
        "print(f\"On 1-gram: {eval(lm1, 'en', 1): .2f}\")\n",
        "print(f\"On 2-gram: {eval(lm2, 'en', 2): .2f}\")\n",
        "print(f\"On 3-gram: {eval(lm3, 'en', 3): .2f}\")\n",
        "print(f\"On 4-gram: {eval(lm4, 'en', 4): .2f}\")"
      ]
    },
    {
      "cell_type": "markdown",
      "metadata": {
        "id": "9ZYVc7hB84LP"
      },
      "source": [
        "## Part 4\n",
        "Implement the *match* function that calls *eval* using a specific value of *n* for every possible language pair among the languages we have data for. You should call *eval* for every language pair four times, with each call assign a different value for *n* (1-4). Each language pair is composed of the source language and the target language. Before you make the call, you need to call the *lm* function to create the language model for the source language. Then you can call *eval* with the language model and the target language. The function should return a pandas DataFrame with the following four columns: *source_lang*, *target_lang*, *n*, *perplexity*. The values for the first two columns are the two-letter language codes. The value for *n* is the *n* you use for generating the specific perplexity values which you should store in the forth column."
      ]
    },
    {
      "cell_type": "code",
      "execution_count": 23,
      "metadata": {
        "id": "tMczigsHuadi"
      },
      "outputs": [],
      "source": [
        "languages = ['en', 'es', 'fr', 'in', 'it', 'nl', 'pt', 'tl']"
      ]
    },
    {
      "cell_type": "code",
      "execution_count": null,
      "metadata": {
        "id": "16ew9aZWroPC"
      },
      "outputs": [],
      "source": [
        "def match() -> pd.DataFrame:\n",
        "  '''\n",
        "  Return a DataFrame containing one line per every language pair and n_gram.\n",
        "  Each line will contain the perplexity calculated when applying the language model\n",
        "  of the source language on the text of the target language.\n",
        "  :return: a DataFrame containing the perplexity values\n",
        "  '''\n",
        "  r = []\n",
        "  for n in range(1, 5):\n",
        "    for source_language in languages:\n",
        "      lm = build_lm(source_language, n, True)\n",
        "      for target_language in languages:\n",
        "        per = eval(lm, target_language, n)\n",
        "        r.append({'source_lang': source_language, 'target_lang': target_language, 'n': n, 'perplexity': per})\n",
        "  return pd.DataFrame.from_records(r)"
      ]
    },
    {
      "cell_type": "markdown",
      "metadata": {
        "id": "pAQoR0dH9C3T"
      },
      "source": [
        "## Part 5\n",
        "Implement the *generate* function which takes a language code, *n*, the prompt (the starting text), the number of tokens to generate, and *r*, which is the random seed for any randomized action you plan to take in your implementation. The function should start generating tokens, one by one, using the language model of the given source language and *n*. The prompt should be used as a starting point for aligning on the probabilities to be used for generating the next token. For this exercise, you may assume a valid input in the respective language.\n",
        "\n",
        "Note - The generation of the next token should be from the LM's distribution with NO smoothing."
      ]
    },
    {
      "cell_type": "code",
      "execution_count": 25,
      "metadata": {
        "id": "CpCm24-RrpuA"
      },
      "outputs": [],
      "source": [
        "import random\n",
        "def generate(lang: str, n: int, prompt: str, number_of_tokens: int, r: int) -> str:\n",
        "  '''\n",
        "  Generate text in the given language using the given parameters.\n",
        "  :param lang: the language of the model\n",
        "  :param n: the n_gram value\n",
        "  :param prompt: the prompt to start the generation\n",
        "  :param number_of_tokens: the number of tokens to generate\n",
        "  :param r: the random seed to use\n",
        "  '''\n",
        "  text = \"\"\n",
        "  lm = build_lm(lang, n, False)\n",
        "  random.seed(r)\n",
        "  prompt_padded = [\"<start>\"] * n + list(prompt)\n",
        "  generated = []\n",
        "  current_prompt = prompt_padded[-(n-1):] if n > 1 else []\n",
        "  while len(generated) < number_of_tokens:\n",
        "    rn = random.choices(list(lm[tuple(current_prompt)].keys()), np.array(list(lm[tuple(current_prompt)].values())), k=1)[0]\n",
        "    if not (rn == \"<start>\" or rn == \"<end>\" or rn == \"<unk>\"): # assume that number of tokens overriders <end> and not only limits sentence size\n",
        "        generated.append(rn)\n",
        "        if n > 1:\n",
        "            current_prompt = current_prompt[1:] + [rn] \n",
        "  return prompt + \"\".join(generated)"
      ]
    },
    {
      "cell_type": "markdown",
      "metadata": {
        "id": "eUWX8Ugu9INH"
      },
      "source": [
        "## Part 6\n",
        "Play with your generate function, try to generate different texts in different language and various values of *n*. No need to submit anything of that."
      ]
    },
    {
      "cell_type": "code",
      "execution_count": 26,
      "metadata": {
        "colab": {
          "base_uri": "https://localhost:8080/"
        },
        "id": "0ykbMBzG9LWn",
        "outputId": "c9613bb9-9d55-48dd-d2bf-f79435ab6d84"
      },
      "outputs": [
        {
          "name": "stdout",
          "output_type": "stream",
          "text": [
            "I amtpgLpC eLh\n",
            "I amoulpeginSh\n",
            "I amit: Lynmkm\n",
            "I am carrive Ob\n",
            "Soycalíodenye\n",
            "Soy orbershag\n",
            "Je suis:/opapropa\n",
            "Je suis tunes #AC\n"
          ]
        }
      ],
      "source": [
        "print(generate('en', 1, \"I am\", 10, 5))\n",
        "print(generate('en', 2, \"I am\", 10, 5))\n",
        "print(generate('en', 3, \"I am\", 10, 5))\n",
        "print(generate('en', 4, \"I am \", 10, 5))\n",
        "print(generate('es', 2, \"Soy\", 10, 5))\n",
        "print(generate('es', 3, \"Soy\", 10, 5))\n",
        "print(generate('fr', 2, \"Je suis\", 10, 5))\n",
        "print(generate('fr', 3, \"Je suis\", 10, 5))"
      ]
    },
    {
      "cell_type": "markdown",
      "metadata": {
        "id": "q2jNlDISr9aL"
      },
      "source": [
        "# Testing"
      ]
    },
    {
      "cell_type": "markdown",
      "metadata": {
        "id": "uv48OCT_sIYW"
      },
      "source": [
        "Copy the content of the **tests.py** file from the repo and paste below. This will create the results.json file and download it to your machine."
      ]
    },
    {
      "cell_type": "code",
      "execution_count": 27,
      "metadata": {
        "colab": {
          "base_uri": "https://localhost:8080/",
          "height": 17
        },
        "id": "JZTlc2ieruqq",
        "outputId": "772800de-c13a-4bd2-f22e-734b012da84f"
      },
      "outputs": [
        {
          "name": "stderr",
          "output_type": "stream",
          "text": [
            "100%|██████████| 747/747 [00:00<00:00, 8893.12it/s]\n",
            "100%|██████████| 8238/8238 [00:00<00:00, 8513.34it/s]\n",
            "100%|██████████| 8285/8285 [00:00<00:00, 8476.01it/s]\n",
            "100%|██████████| 8468/8468 [00:01<00:00, 8403.11it/s]\n",
            "100%|██████████| 8238/8238 [00:00<00:00, 8338.07it/s]\n",
            "100%|██████████| 1/1 [00:00<?, ?it/s]\n",
            "100%|██████████| 1/1 [00:00<?, ?it/s]\n",
            "100%|██████████| 1/1 [00:00<?, ?it/s]\n",
            "100%|██████████| 1/1 [00:00<?, ?it/s]\n",
            "100%|██████████| 1/1 [00:00<00:00, 999.36it/s]\n",
            "100%|██████████| 1/1 [00:00<00:00, 1000.07it/s]\n",
            "100%|██████████| 1/1 [00:00<?, ?it/s]\n",
            "100%|██████████| 1/1 [00:00<00:00, 1000.31it/s]\n",
            "100%|██████████| 747/747 [00:00<00:00, 8799.46it/s]\n",
            "100%|██████████| 648/648 [00:00<00:00, 8639.99it/s]\n",
            "100%|██████████| 737/737 [00:00<00:00, 9959.25it/s]\n",
            "100%|██████████| 803/803 [00:00<00:00, 9559.54it/s]\n",
            "100%|██████████| 553/553 [00:00<00:00, 9875.13it/s]\n",
            "100%|██████████| 608/608 [00:00<00:00, 9967.20it/s]\n",
            "100%|██████████| 614/614 [00:00<00:00, 10065.60it/s]\n",
            "100%|██████████| 708/708 [00:00<00:00, 10114.30it/s]\n",
            "100%|██████████| 8238/8238 [00:00<00:00, 8462.43it/s]\n",
            "100%|██████████| 8468/8468 [00:00<00:00, 8676.23it/s]\n",
            "100%|██████████| 8285/8285 [00:01<00:00, 8224.71it/s]\n",
            "100%|██████████| 8107/8107 [00:00<00:00, 8314.87it/s]\n",
            "100%|██████████| 7721/7721 [00:00<00:00, 8395.70it/s]\n",
            "100%|██████████| 7778/7778 [00:00<00:00, 8274.41it/s]\n",
            "100%|██████████| 7685/7685 [00:00<00:00, 8097.99it/s]\n",
            "100%|██████████| 8108/8108 [00:00<00:00, 8336.84it/s]\n",
            "100%|██████████| 78911/78911 [00:09<00:00, 8417.21it/s]\n",
            "100%|██████████| 70633/70633 [00:09<00:00, 7484.18it/s]\n",
            "100%|██████████| 76653/76653 [00:09<00:00, 8197.54it/s]\n",
            "100%|██████████| 70352/70352 [00:08<00:00, 7818.23it/s]\n",
            "100%|██████████| 65352/65352 [00:08<00:00, 7290.98it/s]\n",
            "100%|██████████| 84568/84568 [00:10<00:00, 7798.80it/s]\n",
            "100%|██████████| 56007/56007 [00:07<00:00, 7996.20it/s]\n",
            "100%|██████████| 62235/62235 [00:07<00:00, 8058.57it/s]\n"
          ]
        }
      ],
      "source": [
        "########################################\n",
        "# PLACE TESTS HERE #\n",
        "# Create tests\n",
        "def test_preprocess():\n",
        "    return {\n",
        "        'vocab_length': len(preprocess()),\n",
        "    }\n",
        "\n",
        "def test_build_lm():\n",
        "    return {\n",
        "        'english_2_gram_length': len(build_lm('en', 2, True)),\n",
        "        'english_3_gram_length': len(build_lm('en', 3, True)),\n",
        "        'french_3_gram_length': len(build_lm('fr', 3, True)),\n",
        "        'spanish_3_gram_length': len(build_lm('es', 3, True)),\n",
        "    }\n",
        "\n",
        "def test_eval():\n",
        "    lm = build_lm('en', 3, True)\n",
        "    return {\n",
        "        'en_on_en': round(eval(lm, 'en', 3), 2),\n",
        "        'en_on_fr': round(eval(lm, 'fr', 3), 2),\n",
        "        'en_on_tl': round(eval(lm, 'tl', 3), 2),\n",
        "        'en_on_nl': round(eval(lm, 'nl', 3), 2),\n",
        "    }\n",
        "\n",
        "def test_match():\n",
        "    df = match()\n",
        "    return {\n",
        "        'df_shape': df.shape,\n",
        "        'en_en_3': df[(df['source'] == 'en') & (df['target'] == 'en') & (df['n'] == 3)]['perplexity'].values[0],\n",
        "        'en_tl_3': df[(df['source'] == 'en') & (df['target'] == 'tl') & (df['n'] == 3)]['perplexity'].values[0],\n",
        "        'en_nl_3': df[(df['source'] == 'en') & (df['target'] == 'nl') & (df['n'] == 3)]['perplexity'].values[0],\n",
        "    }\n",
        "\n",
        "def test_generate():\n",
        "    return {\n",
        "        'english_2_gram': generate('en', 2, \"I am\", 20, 5),\n",
        "        'english_3_gram': generate('en', 3, \"I am\", 20, 5),\n",
        "        'english_4_gram': generate('en', 4, \"I Love\", 20, 5),\n",
        "        'spanish_2_gram': generate('es', 2, \"Soy\", 20, 5),\n",
        "        'spanish_3_gram': generate('es', 3, \"Soy\", 20, 5),\n",
        "        'french_2_gram': generate('fr', 2, \"Je suis\", 20, 5),\n",
        "        'french_3_gram': generate('fr', 3, \"Je suis\", 20, 5),\n",
        "    }\n",
        "\n",
        "TESTS = [test_preprocess, test_build_lm, test_eval, test_match, test_generate]\n",
        "\n",
        "# Run tests and save results\n",
        "res = {}\n",
        "for test in TESTS:\n",
        "    try:\n",
        "        cur_res = test()\n",
        "        res.update({test.__name__: cur_res})\n",
        "    except Exception as e:\n",
        "        res.update({test.__name__: repr(e)})\n",
        "\n",
        "with open('results.json', 'w') as f:\n",
        "    json.dump(res, f, indent=2)\n",
        "\n",
        "# Download the results.json file\n",
        "#files.download('results.json')\n",
        "########################################"
      ]
    },
    {
      "cell_type": "code",
      "execution_count": 28,
      "metadata": {
        "colab": {
          "base_uri": "https://localhost:8080/"
        },
        "id": "0dEpidyrqXTr",
        "outputId": "771c371b-d07c-4aee-fd4e-8bca0a9d31f3"
      },
      "outputs": [
        {
          "name": "stderr",
          "output_type": "stream",
          "text": [
            "'ls' is not recognized as an internal or external command,\n",
            "operable program or batch file.\n"
          ]
        }
      ],
      "source": [
        "# Show the local files, results.json should be there now and\n",
        "# also downloaded to your local machine\n",
        "!ls -l"
      ]
    },
    {
      "cell_type": "code",
      "execution_count": null,
      "metadata": {
        "id": "UA8l8Vg5hPtr"
      },
      "outputs": [],
      "source": []
    }
  ],
  "metadata": {
    "colab": {
      "provenance": []
    },
    "kernelspec": {
      "display_name": "Python 3",
      "name": "python3"
    },
    "language_info": {
      "codemirror_mode": {
        "name": "ipython",
        "version": 3
      },
      "file_extension": ".py",
      "mimetype": "text/x-python",
      "name": "python",
      "nbconvert_exporter": "python",
      "pygments_lexer": "ipython3",
      "version": "3.9.1"
    }
  },
  "nbformat": 4,
  "nbformat_minor": 0
}
